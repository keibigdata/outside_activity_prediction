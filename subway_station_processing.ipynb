{
 "cells": [
  {
   "cell_type": "code",
   "execution_count": 1,
   "metadata": {},
   "outputs": [],
   "source": [
    "import numpy as np\n",
    "import pandas as pd"
   ]
  },
  {
   "cell_type": "code",
   "execution_count": 2,
   "metadata": {},
   "outputs": [],
   "source": [
    "df1 = pd.read_csv('input_data/subway_use/2015.csv', encoding='utf-8', index_col =False)\n",
    "df2 = pd.read_csv('input_data/subway_use/2016.csv', encoding='utf-8', index_col =False)\n",
    "df3 = pd.read_csv('input_data/subway_use/2017.csv', encoding='utf-8', index_col =False)"
   ]
  },
  {
   "cell_type": "code",
   "execution_count": 3,
   "metadata": {},
   "outputs": [
    {
     "data": {
      "text/plain": [
       "Index(['날짜\\t역번호\\t역명\\t구분\\t05~06\\t06~07\\t07~08\\t08~09\\t09~10\\t10~11\\t11~12\\t12~13\\t13~14\\t14~15\\t15~16\\t16~17\\t17~18\\t18~19\\t19~20\\t20~21\\t21~22\\t22~23\\t23~24\\t24~'], dtype='object')"
      ]
     },
     "execution_count": 3,
     "metadata": {},
     "output_type": "execute_result"
    }
   ],
   "source": [
    "df1.columns"
   ]
  },
  {
   "cell_type": "code",
   "execution_count": 4,
   "metadata": {},
   "outputs": [
    {
     "data": {
      "text/plain": [
       "Index(['날짜\\t역번호\\t역명\\t구분\\t05~06\\t06~07\\t07~08\\t08~09\\t09~10\\t10~11\\t11~12\\t12~13\\t13~14\\t14~15\\t15~16\\t16~17\\t17~18\\t18~19\\t19~20\\t20~21\\t21~22\\t22~23\\t23~24\\t24~'], dtype='object')"
      ]
     },
     "execution_count": 4,
     "metadata": {},
     "output_type": "execute_result"
    }
   ],
   "source": [
    "df2.columns"
   ]
  },
  {
   "cell_type": "code",
   "execution_count": 5,
   "metadata": {},
   "outputs": [
    {
     "data": {
      "text/plain": [
       "Index(['날짜\\t역번호\\t역명\\t구분\\t05~06\\t06~07\\t07~08\\t08~09\\t09~10\\t10~11\\t11~12\\t12~13\\t13~14\\t14~15\\t15~16\\t16~17\\t17~18\\t18~19\\t19~20\\t20~21\\t21~22\\t22~23\\t23~24\\t24~'], dtype='object')"
      ]
     },
     "execution_count": 5,
     "metadata": {},
     "output_type": "execute_result"
    }
   ],
   "source": [
    "df3.columns"
   ]
  },
  {
   "cell_type": "code",
   "execution_count": 6,
   "metadata": {},
   "outputs": [],
   "source": [
    "df = pd.concat([df1, df2, df3])"
   ]
  },
  {
   "cell_type": "code",
   "execution_count": 7,
   "metadata": {},
   "outputs": [
    {
     "data": {
      "text/html": [
       "<div>\n",
       "<style scoped>\n",
       "    .dataframe tbody tr th:only-of-type {\n",
       "        vertical-align: middle;\n",
       "    }\n",
       "\n",
       "    .dataframe tbody tr th {\n",
       "        vertical-align: top;\n",
       "    }\n",
       "\n",
       "    .dataframe thead th {\n",
       "        text-align: right;\n",
       "    }\n",
       "</style>\n",
       "<table border=\"1\" class=\"dataframe\">\n",
       "  <thead>\n",
       "    <tr style=\"text-align: right;\">\n",
       "      <th></th>\n",
       "      <th>날짜\t역번호\t역명\t구분\t05~06\t06~07\t07~08\t08~09\t09~10\t10~11\t11~12\t12~13\t13~14\t14~15\t15~16\t16~17\t17~18\t18~19\t19~20\t20~21\t21~22\t22~23\t23~24\t24~</th>\n",
       "    </tr>\n",
       "  </thead>\n",
       "  <tbody>\n",
       "    <tr>\n",
       "      <th>0</th>\n",
       "      <td>2015.1.1\\t150\\t서울역(150)\\t승차\\t441 \\t399 \\t572 \\...</td>\n",
       "    </tr>\n",
       "    <tr>\n",
       "      <th>1</th>\n",
       "      <td>2015.1.1\\t151\\t시청(151)\\t승차\\t101 \\t95 \\t104 \\t1...</td>\n",
       "    </tr>\n",
       "    <tr>\n",
       "      <th>2</th>\n",
       "      <td>2015.1.1\\t152\\t종각(152)\\t승차\\t898 \\t482 \\t281 \\t...</td>\n",
       "    </tr>\n",
       "    <tr>\n",
       "      <th>3</th>\n",
       "      <td>2015.1.1\\t153\\t종로3가(153)\\t승차\\t371 \\t212 \\t155 ...</td>\n",
       "    </tr>\n",
       "    <tr>\n",
       "      <th>4</th>\n",
       "      <td>2015.1.1\\t154\\t종로5가(154)\\t승차\\t57 \\t101 \\t83 \\t...</td>\n",
       "    </tr>\n",
       "    <tr>\n",
       "      <th>5</th>\n",
       "      <td>2015.1.1\\t155\\t동대문(155)\\t승차\\t130 \\t176 \\t171 \\...</td>\n",
       "    </tr>\n",
       "    <tr>\n",
       "      <th>6</th>\n",
       "      <td>2015.1.1\\t156\\t신설동(156)\\t승차\\t95 \\t136 \\t160 \\t...</td>\n",
       "    </tr>\n",
       "    <tr>\n",
       "      <th>7</th>\n",
       "      <td>2015.1.1\\t157\\t제기동(157)\\t승차\\t102 \\t198 \\t138 \\...</td>\n",
       "    </tr>\n",
       "    <tr>\n",
       "      <th>8</th>\n",
       "      <td>2015.1.1\\t158\\t청량리(지하)(158)\\t승차\\t273 \\t243 \\t3...</td>\n",
       "    </tr>\n",
       "    <tr>\n",
       "      <th>9</th>\n",
       "      <td>2015.1.1\\t159\\t동묘앞(159)\\t승차\\t48 \\t56 \\t57 \\t89...</td>\n",
       "    </tr>\n",
       "    <tr>\n",
       "      <th>10</th>\n",
       "      <td>2015.1.1\\t201\\t시청(201)\\t승차\\t39 \\t51 \\t95 \\t104...</td>\n",
       "    </tr>\n",
       "    <tr>\n",
       "      <th>11</th>\n",
       "      <td>2015.1.1\\t202\\t을지로입구(202)\\t승차\\t149 \\t123 \\t117...</td>\n",
       "    </tr>\n",
       "    <tr>\n",
       "      <th>12</th>\n",
       "      <td>2015.1.1\\t203\\t을지로3가(203)\\t승차\\t30 \\t94 \\t53 \\t...</td>\n",
       "    </tr>\n",
       "    <tr>\n",
       "      <th>13</th>\n",
       "      <td>2015.1.1\\t204\\t을지로4가(204)\\t승차\\t30 \\t32 \\t57 \\t...</td>\n",
       "    </tr>\n",
       "    <tr>\n",
       "      <th>14</th>\n",
       "      <td>2015.1.1\\t205\\t동대문역사문화공원(205)\\t승차\\t125 \\t93 \\t...</td>\n",
       "    </tr>\n",
       "    <tr>\n",
       "      <th>15</th>\n",
       "      <td>2015.1.1\\t206\\t신당(206)\\t승차\\t115 \\t166 \\t137 \\t...</td>\n",
       "    </tr>\n",
       "    <tr>\n",
       "      <th>16</th>\n",
       "      <td>2015.1.1\\t207\\t상왕십리(207)\\t승차\\t74 \\t127 \\t152 \\...</td>\n",
       "    </tr>\n",
       "    <tr>\n",
       "      <th>17</th>\n",
       "      <td>2015.1.1\\t208\\t왕십리(성동구청)(208)\\t승차\\t218 \\t250 \\...</td>\n",
       "    </tr>\n",
       "    <tr>\n",
       "      <th>18</th>\n",
       "      <td>2015.1.1\\t209\\t한양대(209)\\t승차\\t38 \\t62 \\t45 \\t58...</td>\n",
       "    </tr>\n",
       "    <tr>\n",
       "      <th>19</th>\n",
       "      <td>2015.1.1\\t210\\t뚝섬(210)\\t승차\\t95 \\t197 \\t136 \\t2...</td>\n",
       "    </tr>\n",
       "    <tr>\n",
       "      <th>20</th>\n",
       "      <td>2015.1.1\\t211\\t성수(211)\\t승차\\t125 \\t193 \\t182 \\t...</td>\n",
       "    </tr>\n",
       "    <tr>\n",
       "      <th>21</th>\n",
       "      <td>2015.1.1\\t212\\t건대입구(212)\\t승차\\t1595 \\t1256 \\t90...</td>\n",
       "    </tr>\n",
       "    <tr>\n",
       "      <th>22</th>\n",
       "      <td>2015.1.1\\t213\\t구의(213)\\t승차\\t226 \\t256 \\t399 \\t...</td>\n",
       "    </tr>\n",
       "    <tr>\n",
       "      <th>23</th>\n",
       "      <td>2015.1.1\\t214\\t강변(214)\\t승차\\t356 \\t358 \\t427 \\t...</td>\n",
       "    </tr>\n",
       "    <tr>\n",
       "      <th>24</th>\n",
       "      <td>2015.1.1\\t215\\t잠실나루(215)\\t승차\\t67 \\t120 \\t163 \\...</td>\n",
       "    </tr>\n",
       "    <tr>\n",
       "      <th>25</th>\n",
       "      <td>2015.1.1\\t216\\t잠실(216)\\t승차\\t1174 \\t608 \\t610 \\...</td>\n",
       "    </tr>\n",
       "    <tr>\n",
       "      <th>26</th>\n",
       "      <td>2015.1.1\\t217\\t신천(217)\\t승차\\t640 \\t527 \\t376 \\t...</td>\n",
       "    </tr>\n",
       "    <tr>\n",
       "      <th>27</th>\n",
       "      <td>2015.1.1\\t218\\t종합운동장(218)\\t승차\\t123 \\t184 \\t115...</td>\n",
       "    </tr>\n",
       "    <tr>\n",
       "      <th>28</th>\n",
       "      <td>2015.1.1\\t219\\t삼성(219)\\t승차\\t295 \\t299 \\t237 \\t...</td>\n",
       "    </tr>\n",
       "    <tr>\n",
       "      <th>29</th>\n",
       "      <td>2015.1.1\\t220\\t선릉(220)\\t승차\\t253 \\t364 \\t289 \\t...</td>\n",
       "    </tr>\n",
       "    <tr>\n",
       "      <th>...</th>\n",
       "      <td>...</td>\n",
       "    </tr>\n",
       "    <tr>\n",
       "      <th>150124</th>\n",
       "      <td>2017.9.30\\t2813\\t강동구청\\t승차\\t120 \\t239 \\t397 \\t5...</td>\n",
       "    </tr>\n",
       "    <tr>\n",
       "      <th>150125</th>\n",
       "      <td>2017.9.30\\t2813\\t강동구청\\t하차\\t27 \\t149 \\t211 \\t31...</td>\n",
       "    </tr>\n",
       "    <tr>\n",
       "      <th>150126</th>\n",
       "      <td>2017.9.30\\t2814\\t몽촌토성\\t승차\\t67 \\t90 \\t165 \\t273...</td>\n",
       "    </tr>\n",
       "    <tr>\n",
       "      <th>150127</th>\n",
       "      <td>2017.9.30\\t2814\\t몽촌토성\\t하차\\t32 \\t163 \\t189 \\t25...</td>\n",
       "    </tr>\n",
       "    <tr>\n",
       "      <th>150128</th>\n",
       "      <td>2017.9.30\\t2815\\t잠실(8)\\t승차\\t73 \\t92 \\t131 \\t17...</td>\n",
       "    </tr>\n",
       "    <tr>\n",
       "      <th>150129</th>\n",
       "      <td>2017.9.30\\t2815\\t잠실(8)\\t하차\\t27 \\t195 \\t343 \\t7...</td>\n",
       "    </tr>\n",
       "    <tr>\n",
       "      <th>150130</th>\n",
       "      <td>2017.9.30\\t2816\\t석촌\\t승차\\t146 \\t150 \\t290 \\t421...</td>\n",
       "    </tr>\n",
       "    <tr>\n",
       "      <th>150131</th>\n",
       "      <td>2017.9.30\\t2816\\t석촌\\t하차\\t25 \\t168 \\t189 \\t360 ...</td>\n",
       "    </tr>\n",
       "    <tr>\n",
       "      <th>150132</th>\n",
       "      <td>2017.9.30\\t2817\\t송파\\t승차\\t71 \\t114 \\t145 \\t265 ...</td>\n",
       "    </tr>\n",
       "    <tr>\n",
       "      <th>150133</th>\n",
       "      <td>2017.9.30\\t2817\\t송파\\t하차\\t65 \\t388 \\t141 \\t224 ...</td>\n",
       "    </tr>\n",
       "    <tr>\n",
       "      <th>150134</th>\n",
       "      <td>2017.9.30\\t2818\\t가락시장(8)\\t승차\\t84 \\t129 \\t190 \\...</td>\n",
       "    </tr>\n",
       "    <tr>\n",
       "      <th>150135</th>\n",
       "      <td>2017.9.30\\t2818\\t가락시장(8)\\t하차\\t97 \\t228 \\t255 \\...</td>\n",
       "    </tr>\n",
       "    <tr>\n",
       "      <th>150136</th>\n",
       "      <td>2017.9.30\\t2819\\t문정\\t승차\\t52 \\t134 \\t226 \\t331 ...</td>\n",
       "    </tr>\n",
       "    <tr>\n",
       "      <th>150137</th>\n",
       "      <td>2017.9.30\\t2819\\t문정\\t하차\\t74 \\t637 \\t433 \\t397 ...</td>\n",
       "    </tr>\n",
       "    <tr>\n",
       "      <th>150138</th>\n",
       "      <td>2017.9.30\\t2820\\t장지\\t승차\\t147 \\t326 \\t422 \\t761...</td>\n",
       "    </tr>\n",
       "    <tr>\n",
       "      <th>150139</th>\n",
       "      <td>2017.9.30\\t2820\\t장지\\t하차\\t46 \\t239 \\t384 \\t772 ...</td>\n",
       "    </tr>\n",
       "    <tr>\n",
       "      <th>150140</th>\n",
       "      <td>2017.9.30\\t2821\\t복정(8)\\t승차\\t108 \\t211 \\t338 \\t...</td>\n",
       "    </tr>\n",
       "    <tr>\n",
       "      <th>150141</th>\n",
       "      <td>2017.9.30\\t2821\\t복정(8)\\t하차\\t86 \\t422 \\t290 \\t2...</td>\n",
       "    </tr>\n",
       "    <tr>\n",
       "      <th>150142</th>\n",
       "      <td>2017.9.30\\t2822\\t산성\\t승차\\t193 \\t219 \\t337 \\t478...</td>\n",
       "    </tr>\n",
       "    <tr>\n",
       "      <th>150143</th>\n",
       "      <td>2017.9.30\\t2822\\t산성\\t하차\\t24 \\t80 \\t95 \\t183 \\t...</td>\n",
       "    </tr>\n",
       "    <tr>\n",
       "      <th>150144</th>\n",
       "      <td>2017.9.30\\t2823\\t남한산성입구\\t승차\\t309 \\t511 \\t792 \\...</td>\n",
       "    </tr>\n",
       "    <tr>\n",
       "      <th>150145</th>\n",
       "      <td>2017.9.30\\t2823\\t남한산성입구\\t하차\\t35 \\t160 \\t225 \\t...</td>\n",
       "    </tr>\n",
       "    <tr>\n",
       "      <th>150146</th>\n",
       "      <td>2017.9.30\\t2824\\t단대오거리\\t승차\\t284 \\t432 \\t597 \\t...</td>\n",
       "    </tr>\n",
       "    <tr>\n",
       "      <th>150147</th>\n",
       "      <td>2017.9.30\\t2824\\t단대오거리\\t하차\\t55 \\t128 \\t187 \\t2...</td>\n",
       "    </tr>\n",
       "    <tr>\n",
       "      <th>150148</th>\n",
       "      <td>2017.9.30\\t2825\\t신흥\\t승차\\t109 \\t190 \\t220 \\t350...</td>\n",
       "    </tr>\n",
       "    <tr>\n",
       "      <th>150149</th>\n",
       "      <td>2017.9.30\\t2825\\t신흥\\t하차\\t24 \\t69 \\t72 \\t150 \\t...</td>\n",
       "    </tr>\n",
       "    <tr>\n",
       "      <th>150150</th>\n",
       "      <td>2017.9.30\\t2826\\t수진\\t승차\\t110 \\t137 \\t248 \\t393...</td>\n",
       "    </tr>\n",
       "    <tr>\n",
       "      <th>150151</th>\n",
       "      <td>2017.9.30\\t2826\\t수진\\t하차\\t20 \\t111 \\t59 \\t133 \\...</td>\n",
       "    </tr>\n",
       "    <tr>\n",
       "      <th>150152</th>\n",
       "      <td>2017.9.30\\t2827\\t모란(8)\\t승차\\t74 \\t91 \\t106 \\t18...</td>\n",
       "    </tr>\n",
       "    <tr>\n",
       "      <th>150153</th>\n",
       "      <td>2017.9.30\\t2827\\t모란(8)\\t하차\\t16 \\t90 \\t95 \\t143...</td>\n",
       "    </tr>\n",
       "  </tbody>\n",
       "</table>\n",
       "<p>552204 rows × 1 columns</p>\n",
       "</div>"
      ],
      "text/plain": [
       "       날짜\\t역번호\\t역명\\t구분\\t05~06\\t06~07\\t07~08\\t08~09\\t09~10\\t10~11\\t11~12\\t12~13\\t13~14\\t14~15\\t15~16\\t16~17\\t17~18\\t18~19\\t19~20\\t20~21\\t21~22\\t22~23\\t23~24\\t24~\n",
       "0       2015.1.1\\t150\\t서울역(150)\\t승차\\t441 \\t399 \\t572 \\...                                                                                                       \n",
       "1       2015.1.1\\t151\\t시청(151)\\t승차\\t101 \\t95 \\t104 \\t1...                                                                                                       \n",
       "2       2015.1.1\\t152\\t종각(152)\\t승차\\t898 \\t482 \\t281 \\t...                                                                                                       \n",
       "3       2015.1.1\\t153\\t종로3가(153)\\t승차\\t371 \\t212 \\t155 ...                                                                                                       \n",
       "4       2015.1.1\\t154\\t종로5가(154)\\t승차\\t57 \\t101 \\t83 \\t...                                                                                                       \n",
       "5       2015.1.1\\t155\\t동대문(155)\\t승차\\t130 \\t176 \\t171 \\...                                                                                                       \n",
       "6       2015.1.1\\t156\\t신설동(156)\\t승차\\t95 \\t136 \\t160 \\t...                                                                                                       \n",
       "7       2015.1.1\\t157\\t제기동(157)\\t승차\\t102 \\t198 \\t138 \\...                                                                                                       \n",
       "8       2015.1.1\\t158\\t청량리(지하)(158)\\t승차\\t273 \\t243 \\t3...                                                                                                       \n",
       "9       2015.1.1\\t159\\t동묘앞(159)\\t승차\\t48 \\t56 \\t57 \\t89...                                                                                                       \n",
       "10      2015.1.1\\t201\\t시청(201)\\t승차\\t39 \\t51 \\t95 \\t104...                                                                                                       \n",
       "11      2015.1.1\\t202\\t을지로입구(202)\\t승차\\t149 \\t123 \\t117...                                                                                                       \n",
       "12      2015.1.1\\t203\\t을지로3가(203)\\t승차\\t30 \\t94 \\t53 \\t...                                                                                                       \n",
       "13      2015.1.1\\t204\\t을지로4가(204)\\t승차\\t30 \\t32 \\t57 \\t...                                                                                                       \n",
       "14      2015.1.1\\t205\\t동대문역사문화공원(205)\\t승차\\t125 \\t93 \\t...                                                                                                       \n",
       "15      2015.1.1\\t206\\t신당(206)\\t승차\\t115 \\t166 \\t137 \\t...                                                                                                       \n",
       "16      2015.1.1\\t207\\t상왕십리(207)\\t승차\\t74 \\t127 \\t152 \\...                                                                                                       \n",
       "17      2015.1.1\\t208\\t왕십리(성동구청)(208)\\t승차\\t218 \\t250 \\...                                                                                                       \n",
       "18      2015.1.1\\t209\\t한양대(209)\\t승차\\t38 \\t62 \\t45 \\t58...                                                                                                       \n",
       "19      2015.1.1\\t210\\t뚝섬(210)\\t승차\\t95 \\t197 \\t136 \\t2...                                                                                                       \n",
       "20      2015.1.1\\t211\\t성수(211)\\t승차\\t125 \\t193 \\t182 \\t...                                                                                                       \n",
       "21      2015.1.1\\t212\\t건대입구(212)\\t승차\\t1595 \\t1256 \\t90...                                                                                                       \n",
       "22      2015.1.1\\t213\\t구의(213)\\t승차\\t226 \\t256 \\t399 \\t...                                                                                                       \n",
       "23      2015.1.1\\t214\\t강변(214)\\t승차\\t356 \\t358 \\t427 \\t...                                                                                                       \n",
       "24      2015.1.1\\t215\\t잠실나루(215)\\t승차\\t67 \\t120 \\t163 \\...                                                                                                       \n",
       "25      2015.1.1\\t216\\t잠실(216)\\t승차\\t1174 \\t608 \\t610 \\...                                                                                                       \n",
       "26      2015.1.1\\t217\\t신천(217)\\t승차\\t640 \\t527 \\t376 \\t...                                                                                                       \n",
       "27      2015.1.1\\t218\\t종합운동장(218)\\t승차\\t123 \\t184 \\t115...                                                                                                       \n",
       "28      2015.1.1\\t219\\t삼성(219)\\t승차\\t295 \\t299 \\t237 \\t...                                                                                                       \n",
       "29      2015.1.1\\t220\\t선릉(220)\\t승차\\t253 \\t364 \\t289 \\t...                                                                                                       \n",
       "...                                                   ...                                                                                                       \n",
       "150124  2017.9.30\\t2813\\t강동구청\\t승차\\t120 \\t239 \\t397 \\t5...                                                                                                       \n",
       "150125  2017.9.30\\t2813\\t강동구청\\t하차\\t27 \\t149 \\t211 \\t31...                                                                                                       \n",
       "150126  2017.9.30\\t2814\\t몽촌토성\\t승차\\t67 \\t90 \\t165 \\t273...                                                                                                       \n",
       "150127  2017.9.30\\t2814\\t몽촌토성\\t하차\\t32 \\t163 \\t189 \\t25...                                                                                                       \n",
       "150128  2017.9.30\\t2815\\t잠실(8)\\t승차\\t73 \\t92 \\t131 \\t17...                                                                                                       \n",
       "150129  2017.9.30\\t2815\\t잠실(8)\\t하차\\t27 \\t195 \\t343 \\t7...                                                                                                       \n",
       "150130  2017.9.30\\t2816\\t석촌\\t승차\\t146 \\t150 \\t290 \\t421...                                                                                                       \n",
       "150131  2017.9.30\\t2816\\t석촌\\t하차\\t25 \\t168 \\t189 \\t360 ...                                                                                                       \n",
       "150132  2017.9.30\\t2817\\t송파\\t승차\\t71 \\t114 \\t145 \\t265 ...                                                                                                       \n",
       "150133  2017.9.30\\t2817\\t송파\\t하차\\t65 \\t388 \\t141 \\t224 ...                                                                                                       \n",
       "150134  2017.9.30\\t2818\\t가락시장(8)\\t승차\\t84 \\t129 \\t190 \\...                                                                                                       \n",
       "150135  2017.9.30\\t2818\\t가락시장(8)\\t하차\\t97 \\t228 \\t255 \\...                                                                                                       \n",
       "150136  2017.9.30\\t2819\\t문정\\t승차\\t52 \\t134 \\t226 \\t331 ...                                                                                                       \n",
       "150137  2017.9.30\\t2819\\t문정\\t하차\\t74 \\t637 \\t433 \\t397 ...                                                                                                       \n",
       "150138  2017.9.30\\t2820\\t장지\\t승차\\t147 \\t326 \\t422 \\t761...                                                                                                       \n",
       "150139  2017.9.30\\t2820\\t장지\\t하차\\t46 \\t239 \\t384 \\t772 ...                                                                                                       \n",
       "150140  2017.9.30\\t2821\\t복정(8)\\t승차\\t108 \\t211 \\t338 \\t...                                                                                                       \n",
       "150141  2017.9.30\\t2821\\t복정(8)\\t하차\\t86 \\t422 \\t290 \\t2...                                                                                                       \n",
       "150142  2017.9.30\\t2822\\t산성\\t승차\\t193 \\t219 \\t337 \\t478...                                                                                                       \n",
       "150143  2017.9.30\\t2822\\t산성\\t하차\\t24 \\t80 \\t95 \\t183 \\t...                                                                                                       \n",
       "150144  2017.9.30\\t2823\\t남한산성입구\\t승차\\t309 \\t511 \\t792 \\...                                                                                                       \n",
       "150145  2017.9.30\\t2823\\t남한산성입구\\t하차\\t35 \\t160 \\t225 \\t...                                                                                                       \n",
       "150146  2017.9.30\\t2824\\t단대오거리\\t승차\\t284 \\t432 \\t597 \\t...                                                                                                       \n",
       "150147  2017.9.30\\t2824\\t단대오거리\\t하차\\t55 \\t128 \\t187 \\t2...                                                                                                       \n",
       "150148  2017.9.30\\t2825\\t신흥\\t승차\\t109 \\t190 \\t220 \\t350...                                                                                                       \n",
       "150149  2017.9.30\\t2825\\t신흥\\t하차\\t24 \\t69 \\t72 \\t150 \\t...                                                                                                       \n",
       "150150  2017.9.30\\t2826\\t수진\\t승차\\t110 \\t137 \\t248 \\t393...                                                                                                       \n",
       "150151  2017.9.30\\t2826\\t수진\\t하차\\t20 \\t111 \\t59 \\t133 \\...                                                                                                       \n",
       "150152  2017.9.30\\t2827\\t모란(8)\\t승차\\t74 \\t91 \\t106 \\t18...                                                                                                       \n",
       "150153  2017.9.30\\t2827\\t모란(8)\\t하차\\t16 \\t90 \\t95 \\t143...                                                                                                       \n",
       "\n",
       "[552204 rows x 1 columns]"
      ]
     },
     "execution_count": 7,
     "metadata": {},
     "output_type": "execute_result"
    }
   ],
   "source": [
    "df"
   ]
  },
  {
   "cell_type": "code",
   "execution_count": 8,
   "metadata": {},
   "outputs": [
    {
     "ename": "KeyError",
     "evalue": "'구분'",
     "output_type": "error",
     "traceback": [
      "\u001b[0;31m---------------------------------------------------------------------------\u001b[0m",
      "\u001b[0;31mKeyError\u001b[0m                                  Traceback (most recent call last)",
      "\u001b[0;32m/Library/Frameworks/Python.framework/Versions/3.6/lib/python3.6/site-packages/pandas/core/indexes/base.py\u001b[0m in \u001b[0;36mget_loc\u001b[0;34m(self, key, method, tolerance)\u001b[0m\n\u001b[1;32m   3062\u001b[0m             \u001b[0;32mtry\u001b[0m\u001b[0;34m:\u001b[0m\u001b[0;34m\u001b[0m\u001b[0m\n\u001b[0;32m-> 3063\u001b[0;31m                 \u001b[0;32mreturn\u001b[0m \u001b[0mself\u001b[0m\u001b[0;34m.\u001b[0m\u001b[0m_engine\u001b[0m\u001b[0;34m.\u001b[0m\u001b[0mget_loc\u001b[0m\u001b[0;34m(\u001b[0m\u001b[0mkey\u001b[0m\u001b[0;34m)\u001b[0m\u001b[0;34m\u001b[0m\u001b[0m\n\u001b[0m\u001b[1;32m   3064\u001b[0m             \u001b[0;32mexcept\u001b[0m \u001b[0mKeyError\u001b[0m\u001b[0;34m:\u001b[0m\u001b[0;34m\u001b[0m\u001b[0m\n",
      "\u001b[0;32mpandas/_libs/index.pyx\u001b[0m in \u001b[0;36mpandas._libs.index.IndexEngine.get_loc\u001b[0;34m()\u001b[0m\n",
      "\u001b[0;32mpandas/_libs/index.pyx\u001b[0m in \u001b[0;36mpandas._libs.index.IndexEngine.get_loc\u001b[0;34m()\u001b[0m\n",
      "\u001b[0;32mpandas/_libs/hashtable_class_helper.pxi\u001b[0m in \u001b[0;36mpandas._libs.hashtable.PyObjectHashTable.get_item\u001b[0;34m()\u001b[0m\n",
      "\u001b[0;32mpandas/_libs/hashtable_class_helper.pxi\u001b[0m in \u001b[0;36mpandas._libs.hashtable.PyObjectHashTable.get_item\u001b[0;34m()\u001b[0m\n",
      "\u001b[0;31mKeyError\u001b[0m: '구분'",
      "\nDuring handling of the above exception, another exception occurred:\n",
      "\u001b[0;31mKeyError\u001b[0m                                  Traceback (most recent call last)",
      "\u001b[0;32m<ipython-input-8-563800f7021b>\u001b[0m in \u001b[0;36m<module>\u001b[0;34m()\u001b[0m\n\u001b[0;32m----> 1\u001b[0;31m \u001b[0mdf\u001b[0m\u001b[0;34m.\u001b[0m\u001b[0mloc\u001b[0m\u001b[0;34m[\u001b[0m\u001b[0mdf\u001b[0m\u001b[0;34m[\u001b[0m\u001b[0;34m\"구분\"\u001b[0m\u001b[0;34m]\u001b[0m\u001b[0;34m==\u001b[0m\u001b[0;34m\"하차\"\u001b[0m\u001b[0;34m,\u001b[0m \u001b[0;34m\"구분\"\u001b[0m\u001b[0;34m]\u001b[0m \u001b[0;34m=\u001b[0m \u001b[0;36m1\u001b[0m\u001b[0;34m\u001b[0m\u001b[0m\n\u001b[0m\u001b[1;32m      2\u001b[0m \u001b[0mdf\u001b[0m\u001b[0;34m.\u001b[0m\u001b[0mloc\u001b[0m\u001b[0;34m[\u001b[0m\u001b[0mdf\u001b[0m\u001b[0;34m[\u001b[0m\u001b[0;34m\"구분\"\u001b[0m\u001b[0;34m]\u001b[0m\u001b[0;34m==\u001b[0m\u001b[0;34m\"승차\"\u001b[0m\u001b[0;34m,\u001b[0m \u001b[0;34m\"구분\"\u001b[0m\u001b[0;34m]\u001b[0m \u001b[0;34m=\u001b[0m \u001b[0;36m0\u001b[0m\u001b[0;34m\u001b[0m\u001b[0m\n",
      "\u001b[0;32m/Library/Frameworks/Python.framework/Versions/3.6/lib/python3.6/site-packages/pandas/core/frame.py\u001b[0m in \u001b[0;36m__getitem__\u001b[0;34m(self, key)\u001b[0m\n\u001b[1;32m   2683\u001b[0m             \u001b[0;32mreturn\u001b[0m \u001b[0mself\u001b[0m\u001b[0;34m.\u001b[0m\u001b[0m_getitem_multilevel\u001b[0m\u001b[0;34m(\u001b[0m\u001b[0mkey\u001b[0m\u001b[0;34m)\u001b[0m\u001b[0;34m\u001b[0m\u001b[0m\n\u001b[1;32m   2684\u001b[0m         \u001b[0;32melse\u001b[0m\u001b[0;34m:\u001b[0m\u001b[0;34m\u001b[0m\u001b[0m\n\u001b[0;32m-> 2685\u001b[0;31m             \u001b[0;32mreturn\u001b[0m \u001b[0mself\u001b[0m\u001b[0;34m.\u001b[0m\u001b[0m_getitem_column\u001b[0m\u001b[0;34m(\u001b[0m\u001b[0mkey\u001b[0m\u001b[0;34m)\u001b[0m\u001b[0;34m\u001b[0m\u001b[0m\n\u001b[0m\u001b[1;32m   2686\u001b[0m \u001b[0;34m\u001b[0m\u001b[0m\n\u001b[1;32m   2687\u001b[0m     \u001b[0;32mdef\u001b[0m \u001b[0m_getitem_column\u001b[0m\u001b[0;34m(\u001b[0m\u001b[0mself\u001b[0m\u001b[0;34m,\u001b[0m \u001b[0mkey\u001b[0m\u001b[0;34m)\u001b[0m\u001b[0;34m:\u001b[0m\u001b[0;34m\u001b[0m\u001b[0m\n",
      "\u001b[0;32m/Library/Frameworks/Python.framework/Versions/3.6/lib/python3.6/site-packages/pandas/core/frame.py\u001b[0m in \u001b[0;36m_getitem_column\u001b[0;34m(self, key)\u001b[0m\n\u001b[1;32m   2690\u001b[0m         \u001b[0;31m# get column\u001b[0m\u001b[0;34m\u001b[0m\u001b[0;34m\u001b[0m\u001b[0m\n\u001b[1;32m   2691\u001b[0m         \u001b[0;32mif\u001b[0m \u001b[0mself\u001b[0m\u001b[0;34m.\u001b[0m\u001b[0mcolumns\u001b[0m\u001b[0;34m.\u001b[0m\u001b[0mis_unique\u001b[0m\u001b[0;34m:\u001b[0m\u001b[0;34m\u001b[0m\u001b[0m\n\u001b[0;32m-> 2692\u001b[0;31m             \u001b[0;32mreturn\u001b[0m \u001b[0mself\u001b[0m\u001b[0;34m.\u001b[0m\u001b[0m_get_item_cache\u001b[0m\u001b[0;34m(\u001b[0m\u001b[0mkey\u001b[0m\u001b[0;34m)\u001b[0m\u001b[0;34m\u001b[0m\u001b[0m\n\u001b[0m\u001b[1;32m   2693\u001b[0m \u001b[0;34m\u001b[0m\u001b[0m\n\u001b[1;32m   2694\u001b[0m         \u001b[0;31m# duplicate columns & possible reduce dimensionality\u001b[0m\u001b[0;34m\u001b[0m\u001b[0;34m\u001b[0m\u001b[0m\n",
      "\u001b[0;32m/Library/Frameworks/Python.framework/Versions/3.6/lib/python3.6/site-packages/pandas/core/generic.py\u001b[0m in \u001b[0;36m_get_item_cache\u001b[0;34m(self, item)\u001b[0m\n\u001b[1;32m   2484\u001b[0m         \u001b[0mres\u001b[0m \u001b[0;34m=\u001b[0m \u001b[0mcache\u001b[0m\u001b[0;34m.\u001b[0m\u001b[0mget\u001b[0m\u001b[0;34m(\u001b[0m\u001b[0mitem\u001b[0m\u001b[0;34m)\u001b[0m\u001b[0;34m\u001b[0m\u001b[0m\n\u001b[1;32m   2485\u001b[0m         \u001b[0;32mif\u001b[0m \u001b[0mres\u001b[0m \u001b[0;32mis\u001b[0m \u001b[0;32mNone\u001b[0m\u001b[0;34m:\u001b[0m\u001b[0;34m\u001b[0m\u001b[0m\n\u001b[0;32m-> 2486\u001b[0;31m             \u001b[0mvalues\u001b[0m \u001b[0;34m=\u001b[0m \u001b[0mself\u001b[0m\u001b[0;34m.\u001b[0m\u001b[0m_data\u001b[0m\u001b[0;34m.\u001b[0m\u001b[0mget\u001b[0m\u001b[0;34m(\u001b[0m\u001b[0mitem\u001b[0m\u001b[0;34m)\u001b[0m\u001b[0;34m\u001b[0m\u001b[0m\n\u001b[0m\u001b[1;32m   2487\u001b[0m             \u001b[0mres\u001b[0m \u001b[0;34m=\u001b[0m \u001b[0mself\u001b[0m\u001b[0;34m.\u001b[0m\u001b[0m_box_item_values\u001b[0m\u001b[0;34m(\u001b[0m\u001b[0mitem\u001b[0m\u001b[0;34m,\u001b[0m \u001b[0mvalues\u001b[0m\u001b[0;34m)\u001b[0m\u001b[0;34m\u001b[0m\u001b[0m\n\u001b[1;32m   2488\u001b[0m             \u001b[0mcache\u001b[0m\u001b[0;34m[\u001b[0m\u001b[0mitem\u001b[0m\u001b[0;34m]\u001b[0m \u001b[0;34m=\u001b[0m \u001b[0mres\u001b[0m\u001b[0;34m\u001b[0m\u001b[0m\n",
      "\u001b[0;32m/Library/Frameworks/Python.framework/Versions/3.6/lib/python3.6/site-packages/pandas/core/internals.py\u001b[0m in \u001b[0;36mget\u001b[0;34m(self, item, fastpath)\u001b[0m\n\u001b[1;32m   4113\u001b[0m \u001b[0;34m\u001b[0m\u001b[0m\n\u001b[1;32m   4114\u001b[0m             \u001b[0;32mif\u001b[0m \u001b[0;32mnot\u001b[0m \u001b[0misna\u001b[0m\u001b[0;34m(\u001b[0m\u001b[0mitem\u001b[0m\u001b[0;34m)\u001b[0m\u001b[0;34m:\u001b[0m\u001b[0;34m\u001b[0m\u001b[0m\n\u001b[0;32m-> 4115\u001b[0;31m                 \u001b[0mloc\u001b[0m \u001b[0;34m=\u001b[0m \u001b[0mself\u001b[0m\u001b[0;34m.\u001b[0m\u001b[0mitems\u001b[0m\u001b[0;34m.\u001b[0m\u001b[0mget_loc\u001b[0m\u001b[0;34m(\u001b[0m\u001b[0mitem\u001b[0m\u001b[0;34m)\u001b[0m\u001b[0;34m\u001b[0m\u001b[0m\n\u001b[0m\u001b[1;32m   4116\u001b[0m             \u001b[0;32melse\u001b[0m\u001b[0;34m:\u001b[0m\u001b[0;34m\u001b[0m\u001b[0m\n\u001b[1;32m   4117\u001b[0m                 \u001b[0mindexer\u001b[0m \u001b[0;34m=\u001b[0m \u001b[0mnp\u001b[0m\u001b[0;34m.\u001b[0m\u001b[0marange\u001b[0m\u001b[0;34m(\u001b[0m\u001b[0mlen\u001b[0m\u001b[0;34m(\u001b[0m\u001b[0mself\u001b[0m\u001b[0;34m.\u001b[0m\u001b[0mitems\u001b[0m\u001b[0;34m)\u001b[0m\u001b[0;34m)\u001b[0m\u001b[0;34m[\u001b[0m\u001b[0misna\u001b[0m\u001b[0;34m(\u001b[0m\u001b[0mself\u001b[0m\u001b[0;34m.\u001b[0m\u001b[0mitems\u001b[0m\u001b[0;34m)\u001b[0m\u001b[0;34m]\u001b[0m\u001b[0;34m\u001b[0m\u001b[0m\n",
      "\u001b[0;32m/Library/Frameworks/Python.framework/Versions/3.6/lib/python3.6/site-packages/pandas/core/indexes/base.py\u001b[0m in \u001b[0;36mget_loc\u001b[0;34m(self, key, method, tolerance)\u001b[0m\n\u001b[1;32m   3063\u001b[0m                 \u001b[0;32mreturn\u001b[0m \u001b[0mself\u001b[0m\u001b[0;34m.\u001b[0m\u001b[0m_engine\u001b[0m\u001b[0;34m.\u001b[0m\u001b[0mget_loc\u001b[0m\u001b[0;34m(\u001b[0m\u001b[0mkey\u001b[0m\u001b[0;34m)\u001b[0m\u001b[0;34m\u001b[0m\u001b[0m\n\u001b[1;32m   3064\u001b[0m             \u001b[0;32mexcept\u001b[0m \u001b[0mKeyError\u001b[0m\u001b[0;34m:\u001b[0m\u001b[0;34m\u001b[0m\u001b[0m\n\u001b[0;32m-> 3065\u001b[0;31m                 \u001b[0;32mreturn\u001b[0m \u001b[0mself\u001b[0m\u001b[0;34m.\u001b[0m\u001b[0m_engine\u001b[0m\u001b[0;34m.\u001b[0m\u001b[0mget_loc\u001b[0m\u001b[0;34m(\u001b[0m\u001b[0mself\u001b[0m\u001b[0;34m.\u001b[0m\u001b[0m_maybe_cast_indexer\u001b[0m\u001b[0;34m(\u001b[0m\u001b[0mkey\u001b[0m\u001b[0;34m)\u001b[0m\u001b[0;34m)\u001b[0m\u001b[0;34m\u001b[0m\u001b[0m\n\u001b[0m\u001b[1;32m   3066\u001b[0m \u001b[0;34m\u001b[0m\u001b[0m\n\u001b[1;32m   3067\u001b[0m         \u001b[0mindexer\u001b[0m \u001b[0;34m=\u001b[0m \u001b[0mself\u001b[0m\u001b[0;34m.\u001b[0m\u001b[0mget_indexer\u001b[0m\u001b[0;34m(\u001b[0m\u001b[0;34m[\u001b[0m\u001b[0mkey\u001b[0m\u001b[0;34m]\u001b[0m\u001b[0;34m,\u001b[0m \u001b[0mmethod\u001b[0m\u001b[0;34m=\u001b[0m\u001b[0mmethod\u001b[0m\u001b[0;34m,\u001b[0m \u001b[0mtolerance\u001b[0m\u001b[0;34m=\u001b[0m\u001b[0mtolerance\u001b[0m\u001b[0;34m)\u001b[0m\u001b[0;34m\u001b[0m\u001b[0m\n",
      "\u001b[0;32mpandas/_libs/index.pyx\u001b[0m in \u001b[0;36mpandas._libs.index.IndexEngine.get_loc\u001b[0;34m()\u001b[0m\n",
      "\u001b[0;32mpandas/_libs/index.pyx\u001b[0m in \u001b[0;36mpandas._libs.index.IndexEngine.get_loc\u001b[0;34m()\u001b[0m\n",
      "\u001b[0;32mpandas/_libs/hashtable_class_helper.pxi\u001b[0m in \u001b[0;36mpandas._libs.hashtable.PyObjectHashTable.get_item\u001b[0;34m()\u001b[0m\n",
      "\u001b[0;32mpandas/_libs/hashtable_class_helper.pxi\u001b[0m in \u001b[0;36mpandas._libs.hashtable.PyObjectHashTable.get_item\u001b[0;34m()\u001b[0m\n",
      "\u001b[0;31mKeyError\u001b[0m: '구분'"
     ]
    }
   ],
   "source": [
    "df.loc[df[\"구분\"]==\"하차\", \"구분\"] = 1\n",
    "df.loc[df[\"구분\"]==\"승차\", \"구분\"] = 0"
   ]
  },
  {
   "cell_type": "code",
   "execution_count": null,
   "metadata": {},
   "outputs": [],
   "source": [
    "df"
   ]
  },
  {
   "cell_type": "code",
   "execution_count": null,
   "metadata": {},
   "outputs": [],
   "source": [
    "#df.to_csv('raw_data/subway_use/df_all.csv', encoding='utf-8', index=False)"
   ]
  },
  {
   "cell_type": "code",
   "execution_count": null,
   "metadata": {},
   "outputs": [],
   "source": [
    "df_station_info = pd.read_csv('input_data/subway_use/subway_station_info.csv', encoding='utf-8', index_col =False)"
   ]
  },
  {
   "cell_type": "code",
   "execution_count": null,
   "metadata": {
    "scrolled": true
   },
   "outputs": [],
   "source": [
    "df_station_info[[\"id\", \"sigungu\"]]"
   ]
  },
  {
   "cell_type": "code",
   "execution_count": null,
   "metadata": {},
   "outputs": [],
   "source": [
    "df_station_info.columns"
   ]
  },
  {
   "cell_type": "code",
   "execution_count": null,
   "metadata": {},
   "outputs": [],
   "source": [
    "df_merged = pd.merge(df, df_station_info[[\"id\", \"sigungu\"]], how='left', left_on=['역번호'], right_on=['id']) "
   ]
  },
  {
   "cell_type": "code",
   "execution_count": null,
   "metadata": {},
   "outputs": [],
   "source": [
    "df_merged"
   ]
  },
  {
   "cell_type": "code",
   "execution_count": null,
   "metadata": {},
   "outputs": [],
   "source": [
    "import datetime"
   ]
  },
  {
   "cell_type": "code",
   "execution_count": null,
   "metadata": {},
   "outputs": [],
   "source": [
    "# datetime.datetime.strptime('January 11, 2010', '%B %d, %Y').strftime('%A')\n",
    "# datetime.datetime.strptime('January 11, 2010', '%B %d, %Y').strftime('%a')"
   ]
  },
  {
   "cell_type": "code",
   "execution_count": null,
   "metadata": {},
   "outputs": [],
   "source": [
    "# day of week\n",
    "# i=0\n",
    "# date = df_merged[\"날짜\"][1]\n",
    "# datetime.datetime.strptime(date, '%Y.%m.%d').strftime('%a')\n",
    "# dayList = []\n",
    "# dayList.append(datetime.datetime.strptime(date, '%Y-%m-%d').strftime('%a'))\n",
    "# dayList.append(datetime.datetime.strptime(date, '%Y-%m-%d').strftime('%a'))"
   ]
  },
  {
   "cell_type": "code",
   "execution_count": null,
   "metadata": {},
   "outputs": [],
   "source": [
    "dayList = []\n",
    "for i in range(0, df_merged.shape[0]):\n",
    "    date = df_merged[\"날짜\"][i]\n",
    "    day = datetime.datetime.strptime(date, '%Y.%m.%d').strftime('%a')\n",
    "    dayList.append(day)"
   ]
  },
  {
   "cell_type": "code",
   "execution_count": null,
   "metadata": {},
   "outputs": [],
   "source": [
    "dayList"
   ]
  },
  {
   "cell_type": "code",
   "execution_count": null,
   "metadata": {},
   "outputs": [],
   "source": [
    "df_merged[\"dow\"] = dayList"
   ]
  },
  {
   "cell_type": "code",
   "execution_count": null,
   "metadata": {
    "scrolled": true
   },
   "outputs": [],
   "source": [
    "df_merged.head(20)"
   ]
  },
  {
   "cell_type": "code",
   "execution_count": null,
   "metadata": {},
   "outputs": [],
   "source": [
    "dateList = []\n",
    "for i in range(0, df_merged.shape[0]):\n",
    "    date = df_merged[\"날짜\"][i]\n",
    "    day = datetime.datetime.strptime(date, '%Y.%m.%d').strftime('%Y-%m-%d')\n",
    "    dateList.append(day)"
   ]
  },
  {
   "cell_type": "code",
   "execution_count": null,
   "metadata": {},
   "outputs": [],
   "source": [
    "dateList"
   ]
  },
  {
   "cell_type": "code",
   "execution_count": null,
   "metadata": {},
   "outputs": [],
   "source": [
    "df_merged[\"날짜\"] = dateList"
   ]
  },
  {
   "cell_type": "code",
   "execution_count": null,
   "metadata": {},
   "outputs": [],
   "source": [
    "df_merged = df_merged.rename(index=str, columns={'05~06':'5', '06~07':'6', '07~08':'7', '08~09':'8', '09~10':'9',\n",
    "       '10~11':'10', '11~12':'11', '12~13':'12', '13~14':'13', '14~15':'14', '15~16':'15', '16~17':'16', '17~18':'17',\n",
    "       '18~19':'18', '19~20':'19', '20~21':'20', '21~22':'21', '22~23':'22', '23~24':'23', '24~':'24'})"
   ]
  },
  {
   "cell_type": "code",
   "execution_count": null,
   "metadata": {},
   "outputs": [],
   "source": [
    "df_merged"
   ]
  },
  {
   "cell_type": "code",
   "execution_count": null,
   "metadata": {},
   "outputs": [],
   "source": [
    "#df_melted = pd.melt(df_merged, id_vars=[\"날짜\", \"역번호\", \"역명\", \"구분\"], value_vars=['05~06', '06~07', '07~08', '08~09', '09~10',\n",
    "#       '10~11', '11~12', '12~13', '13~14', '14~15', '15~16', '16~17', '17~18',\n",
    "#       '18~19', '19~20', '20~21', '21~22', '22~23', '23~24', '24~'])"
   ]
  },
  {
   "cell_type": "code",
   "execution_count": null,
   "metadata": {},
   "outputs": [],
   "source": [
    "df_melted = pd.melt(df_merged, id_vars=[\"날짜\", \"역번호\", \"역명\", \"구분\", 'sigungu', 'dow'], value_vars=['5', '6', '7', '8', '9',\n",
    "       '10', '11', '12', '13', '14', '15', '16', '17',\n",
    "       '18', '19', '20', '21', '22', '23', '24'], var_name='시간')"
   ]
  },
  {
   "cell_type": "code",
   "execution_count": null,
   "metadata": {},
   "outputs": [],
   "source": [
    "df_melted"
   ]
  },
  {
   "cell_type": "code",
   "execution_count": null,
   "metadata": {},
   "outputs": [],
   "source": [
    "df_melted = df_melted.rename(index=str, columns={\"날짜\": \"date\", \"시간\": \"time\"})"
   ]
  },
  {
   "cell_type": "code",
   "execution_count": null,
   "metadata": {},
   "outputs": [],
   "source": [
    "df_melted['value'] = df_melted['value'].str.replace(',','')"
   ]
  },
  {
   "cell_type": "code",
   "execution_count": null,
   "metadata": {},
   "outputs": [],
   "source": [
    "df_melted['value'].isnull().values.sum()"
   ]
  },
  {
   "cell_type": "code",
   "execution_count": null,
   "metadata": {},
   "outputs": [],
   "source": [
    "df_melted = df_melted.dropna(subset=['value'])"
   ]
  },
  {
   "cell_type": "code",
   "execution_count": null,
   "metadata": {},
   "outputs": [],
   "source": [
    "df_weather1 = pd.read_csv('input_data/weather/weather2015.csv', encoding='CP949', index_col =False)\n",
    "df_weather2 = pd.read_csv('input_data/weather/weather2016.csv', encoding='CP949', index_col =False)\n",
    "df_weather3 = pd.read_csv('input_data/weather/weather2017.csv', encoding='CP949', index_col =False)"
   ]
  },
  {
   "cell_type": "code",
   "execution_count": null,
   "metadata": {},
   "outputs": [],
   "source": [
    "df_weather = pd.concat([df_weather1, df_weather2, df_weather3])"
   ]
  },
  {
   "cell_type": "code",
   "execution_count": null,
   "metadata": {},
   "outputs": [],
   "source": [
    "df_weather = df_weather.fillna(0)"
   ]
  },
  {
   "cell_type": "code",
   "execution_count": null,
   "metadata": {},
   "outputs": [],
   "source": [
    "df_weather"
   ]
  },
  {
   "cell_type": "code",
   "execution_count": null,
   "metadata": {},
   "outputs": [],
   "source": [
    "df_weather.columns"
   ]
  },
  {
   "cell_type": "code",
   "execution_count": null,
   "metadata": {},
   "outputs": [],
   "source": [
    "df_weather_sub = df_weather[[\"지점\", \"date\", \"time\", \"기온(°C)\", \"강수량(mm)\", \"풍속(m/s)\", \"습도(%)\", \"적설(cm)\"]]"
   ]
  },
  {
   "cell_type": "code",
   "execution_count": null,
   "metadata": {
    "scrolled": true
   },
   "outputs": [],
   "source": [
    "df_weather_sub"
   ]
  },
  {
   "cell_type": "code",
   "execution_count": null,
   "metadata": {
    "scrolled": true
   },
   "outputs": [],
   "source": [
    "#df.weather.sub['time'] = df.weather.sub['time'].astype('object')"
   ]
  },
  {
   "cell_type": "code",
   "execution_count": null,
   "metadata": {},
   "outputs": [],
   "source": [
    "df_melted[['time']]=df_melted[['time']].apply(pd.to_numeric)\n",
    "df_melted=df_melted[df_melted.loc[:,\"time\"]<24]\n",
    "df_weather_sub[['time']]=df_weather_sub[['time']].apply(pd.to_numeric)"
   ]
  },
  {
   "cell_type": "code",
   "execution_count": null,
   "metadata": {
    "scrolled": true
   },
   "outputs": [],
   "source": [
    "df_weather_sub.head()"
   ]
  },
  {
   "cell_type": "code",
   "execution_count": null,
   "metadata": {},
   "outputs": [],
   "source": [
    "# print(df_melted.loc[0,'time']) \n",
    "# print(df_weather_sub.loc[5,'time'])\n",
    "# df_melted.loc[0,'time'] == df_weather_sub.loc[5,'time']\n",
    "#df.melted.loc[0,'time'].to_numeric== df.weather.sub.loc[5,'time']"
   ]
  },
  {
   "cell_type": "code",
   "execution_count": null,
   "metadata": {},
   "outputs": [],
   "source": []
  },
  {
   "cell_type": "code",
   "execution_count": null,
   "metadata": {},
   "outputs": [],
   "source": [
    "df_merged_w = pd.merge(df_melted, df_weather_sub, how='left', on=[\"date\", \"time\"]) "
   ]
  },
  {
   "cell_type": "code",
   "execution_count": null,
   "metadata": {},
   "outputs": [],
   "source": [
    "#df_merged_w = pd.concat([df_melted, df_weather_sub], axis=1, join='inner', keys=[\"date\", \"time\"]) "
   ]
  },
  {
   "cell_type": "code",
   "execution_count": null,
   "metadata": {},
   "outputs": [],
   "source": [
    "df_merged_w.head(20)"
   ]
  },
  {
   "cell_type": "code",
   "execution_count": null,
   "metadata": {
    "scrolled": true
   },
   "outputs": [],
   "source": [
    "df_pollution = pd.read_csv('input_data/pollution_seoul.csv', encoding='cp949', index_col =False)\n",
    "#df.pollution_station_info = pd.read_csv('raw_data/pollution_station_info.csv', index_col =False)"
   ]
  },
  {
   "cell_type": "code",
   "execution_count": null,
   "metadata": {
    "scrolled": false
   },
   "outputs": [],
   "source": [
    "df_pollution.info()"
   ]
  },
  {
   "cell_type": "code",
   "execution_count": null,
   "metadata": {
    "scrolled": false
   },
   "outputs": [],
   "source": [
    "#df.pollution.merged = pd.merge(df.pollution, df.pollution_station_info, how='left', on=[\"측정소명\"])\n",
    "#df.pollution.merged.head(10)"
   ]
  },
  {
   "cell_type": "code",
   "execution_count": null,
   "metadata": {},
   "outputs": [],
   "source": [
    "df_pollution_group = df_pollution.groupby([\"date\",\"time\",\"sigungu\"])[\"SO2\",\"CO\",\"O3\",\"NO2\",\"PM10\",\"PM25\"].agg(\"mean\").reset_index()"
   ]
  },
  {
   "cell_type": "code",
   "execution_count": null,
   "metadata": {
    "scrolled": false
   },
   "outputs": [],
   "source": [
    "df_pollution_group.head(10)"
   ]
  },
  {
   "cell_type": "code",
   "execution_count": null,
   "metadata": {},
   "outputs": [],
   "source": [
    "df_pollution_group.info()"
   ]
  },
  {
   "cell_type": "code",
   "execution_count": null,
   "metadata": {},
   "outputs": [],
   "source": [
    "df_pollution_group[\"date\"] = df_pollution_group[\"date\"].astype(str)"
   ]
  },
  {
   "cell_type": "code",
   "execution_count": null,
   "metadata": {},
   "outputs": [],
   "source": [
    "dayList = []\n",
    "for i in range(0, df_pollution_group.shape[0]):\n",
    "    date = df_pollution_group[\"date\"][i]\n",
    "    day = datetime.datetime.strptime(date, '%Y%m%d').strftime('%Y-%m-%d')\n",
    "    dayList.append(day)"
   ]
  },
  {
   "cell_type": "code",
   "execution_count": null,
   "metadata": {},
   "outputs": [],
   "source": [
    "df_pollution_group[\"date\"] = dayList"
   ]
  },
  {
   "cell_type": "code",
   "execution_count": null,
   "metadata": {},
   "outputs": [],
   "source": [
    "df_merged_wp = pd.merge(df_merged_w, df_pollution_group, how='left', on=[\"date\", \"time\", \"sigungu\"]) "
   ]
  },
  {
   "cell_type": "code",
   "execution_count": null,
   "metadata": {
    "scrolled": true
   },
   "outputs": [],
   "source": [
    "df_merged_wp.head(10)"
   ]
  },
  {
   "cell_type": "code",
   "execution_count": null,
   "metadata": {},
   "outputs": [],
   "source": [
    "dow_onehot = pd.get_dummies(df_merged_wp[\"dow\"], prefix='dow')"
   ]
  },
  {
   "cell_type": "code",
   "execution_count": null,
   "metadata": {
    "scrolled": true
   },
   "outputs": [],
   "source": [
    "dow_onehot.head(10)"
   ]
  },
  {
   "cell_type": "code",
   "execution_count": null,
   "metadata": {},
   "outputs": [],
   "source": [
    "df_merged_wpd = pd.concat([df_merged_wp, dow_onehot], axis=1)"
   ]
  },
  {
   "cell_type": "code",
   "execution_count": null,
   "metadata": {},
   "outputs": [],
   "source": [
    "df_merged_wpd.head(10)"
   ]
  },
  {
   "cell_type": "code",
   "execution_count": null,
   "metadata": {},
   "outputs": [],
   "source": [
    "df_merged_date = pd.DataFrame(df_merged_wpd[\"date\"].str.split(\"-\").tolist(), columns=\"year month day\".split())"
   ]
  },
  {
   "cell_type": "code",
   "execution_count": null,
   "metadata": {},
   "outputs": [],
   "source": [
    "df_final = pd.concat([df_merged_wpd, df_merged_date], axis=1)"
   ]
  },
  {
   "cell_type": "code",
   "execution_count": null,
   "metadata": {},
   "outputs": [],
   "source": [
    "df_final"
   ]
  },
  {
   "cell_type": "code",
   "execution_count": null,
   "metadata": {},
   "outputs": [],
   "source": [
    "# yearList = []\n",
    "# for i in range(0, df_merged_wpd.shape[0]):\n",
    "#     year = df_merged_wpd[\"date\"][i].split(\"-\")[0]\n",
    "#     #day = datetime.datetime.strptime(date, '%Y-%m-%d').strftime('%Y')\n",
    "#     yearList.append(year)"
   ]
  },
  {
   "cell_type": "code",
   "execution_count": null,
   "metadata": {},
   "outputs": [],
   "source": [
    "# df_merged_wpd[\"year\"] = dayList"
   ]
  },
  {
   "cell_type": "code",
   "execution_count": null,
   "metadata": {},
   "outputs": [],
   "source": [
    "# dayList = []\n",
    "# for i in range(0, df_merged_wpd.shape[0]):\n",
    "#     date = df_merged_wpd[\"date\"][i]\n",
    "#     day = datetime.datetime.strptime(date, '%Y-%m-%d').strftime('%m')\n",
    "#     dayList.append(day)"
   ]
  },
  {
   "cell_type": "code",
   "execution_count": null,
   "metadata": {},
   "outputs": [],
   "source": [
    "# df_merged_wpd[\"month\"] = dayList"
   ]
  },
  {
   "cell_type": "code",
   "execution_count": null,
   "metadata": {},
   "outputs": [],
   "source": [
    "from sklearn.linear_model import LinearRegression\n",
    "from sklearn.model_selection import train_test_split"
   ]
  },
  {
   "cell_type": "code",
   "execution_count": null,
   "metadata": {
    "scrolled": true
   },
   "outputs": [],
   "source": [
    "# df.all.columns\n",
    "# df.all.isnull().sum(axis=1)>0\n",
    "# df.sub = df.all[(df.all.id==150) & (df.all.category=='0')]\n",
    "# df.sub\n",
    "# df.X = df.sub.loc[df.sub.isnull().sum(axis=1)==0,[\"time\", \"기온(°C)\", '강수량(mm)', '풍속(m/s)', '습도(%)', '적설(cm)', 'O3', 'PM10', 'dow_Fri', 'dow_Mon', 'dow_Sat','dow_Sun', 'dow_Thu', 'dow_Tue', 'dow_Wed']]\n",
    "# df.Y = df.sub.loc[df.sub.isnull().sum(axis=1)==0,[\"value\"]]\n",
    "# lm = LinearRegression()\n",
    "# X_train, X_test, y_train, y_test = train_test_split(df.X, df.Y, test_size=0.25, random_state=1)\n",
    "# lm.fit(X_train, y_train)\n",
    "# lm.get_params\n",
    "# lm.score(X_test, y_test)\n",
    "# lm.score(X_train, y_train)"
   ]
  },
  {
   "cell_type": "code",
   "execution_count": null,
   "metadata": {},
   "outputs": [],
   "source": [
    "from sklearn.metrics import mean_squared_error\n",
    "\n",
    "# y_predict = lm.predict(X_test)\n",
    "# regression_model_mse = mean_squared_error(y_predict, y_test)\n",
    "# regression_model_mse"
   ]
  },
  {
   "cell_type": "code",
   "execution_count": null,
   "metadata": {},
   "outputs": [],
   "source": [
    "from sklearn.tree import DecisionTreeRegressor\n",
    "from sklearn.ensemble import AdaBoostRegressor\n",
    "from sklearn.ensemble import RandomForestRegressor"
   ]
  },
  {
   "cell_type": "code",
   "execution_count": null,
   "metadata": {
    "scrolled": true
   },
   "outputs": [],
   "source": [
    "df_final.columns"
   ]
  },
  {
   "cell_type": "code",
   "execution_count": null,
   "metadata": {},
   "outputs": [],
   "source": [
    "from scipy import stats"
   ]
  },
  {
   "cell_type": "code",
   "execution_count": null,
   "metadata": {},
   "outputs": [],
   "source": [
    "# DT test\n",
    "list_id_station = []\n",
    "list_name_station = []\n",
    "list_dt_mse = []\n",
    "list_boost_mse = []\n",
    "for i in range(0, 15): #df_station_info.shape[0]):\n",
    "    id_station = df_station_info[\"id\"][i]\n",
    "    df_sub = df_final[(df_final[\"역번호\"]==id_station) & (df_final[\"구분\"]==1)].reset_index()\n",
    "    df_sub.isnull()\n",
    "    \n",
    "    #print(df_sub.head(10))\n",
    "    df_X = df_sub.loc[df_sub.isnull().sum(axis=1)==0,[\"구분\", \"year\", \"month\", \"time\", \"기온(°C)\", '강수량(mm)', '풍속(m/s)', '습도(%)', '적설(cm)', 'SO2', 'CO', 'O3', 'NO2', 'PM10', 'PM25', 'dow_Fri', 'dow_Mon', 'dow_Sat','dow_Sun', 'dow_Thu', 'dow_Tue', 'dow_Wed']]\n",
    "    temp_Y = df_sub.loc[df_sub.isnull().sum(axis=1)==0,\"value\"]\n",
    "    \n",
    "    df_Y = stats.zscore(temp_Y)\n",
    "    \n",
    "    #input data split\n",
    "    X_train, X_test, y_train, y_test = train_test_split(df_X, df_Y, test_size=0.3, random_state=1)\n",
    "    \n",
    "    #model\n",
    "    regr = DecisionTreeRegressor(max_depth=5)\n",
    "    regr_boost = AdaBoostRegressor(DecisionTreeRegressor(max_depth=5), n_estimators=300, random_state=1)\n",
    "    regr_rf = RandomForestRegressor(max_depth=5, random_state=1)\n",
    "    \n",
    "    regr.fit(X_train, y_train)    \n",
    "    regr_boost.fit(X_train, y_train)\n",
    "    regr_rf.fit(X_train, y_train)\n",
    "    \n",
    "    #prediction\n",
    "    y_predict = regr.predict(X_test)\n",
    "    y_predict_boost = regr_boost.predict(X_test)\n",
    "    y_predict_rf = regr_rf.predict(X_test)\n",
    "    \n",
    "    #mse\n",
    "    regr_mse = mean_squared_error(y_predict, y_test)\n",
    "    regr_boost_mse = mean_squared_error(y_predict_boost, y_test)\n",
    "    \n",
    "    #list\n",
    "    list_id_station.append(id_station)\n",
    "    list_name_station.append(df_station_info[\"name\"][i])\n",
    "    list_dt_mse.append(regr_mse)\n",
    "    list_boost_mse.append(regr_boost_mse)\n",
    "    \n",
    "    #print(regr_mse)"
   ]
  },
  {
   "cell_type": "code",
   "execution_count": null,
   "metadata": {},
   "outputs": [],
   "source": [
    "df_result = pd.DataFrame({'id': list_id_station, 'name': list_name_station, 'regr_mse': list_dt_mse, 'regr_boost_mse': list_boost_mse})"
   ]
  },
  {
   "cell_type": "code",
   "execution_count": null,
   "metadata": {},
   "outputs": [],
   "source": [
    "df_result"
   ]
  },
  {
   "cell_type": "code",
   "execution_count": null,
   "metadata": {},
   "outputs": [],
   "source": []
  },
  {
   "cell_type": "code",
   "execution_count": null,
   "metadata": {},
   "outputs": [],
   "source": []
  },
  {
   "cell_type": "code",
   "execution_count": null,
   "metadata": {},
   "outputs": [],
   "source": [
    "# import matplotlib.pyplot as plt"
   ]
  },
  {
   "cell_type": "code",
   "execution_count": null,
   "metadata": {},
   "outputs": [],
   "source": [
    "# plt.figure()\n",
    "# plt.scatter(X_train.iloc[:,0], y_train, s=20, edgecolor=\"black\",\n",
    "#             c=\"darkorange\", label=\"data\")\n",
    "# #plt.plot(X_test.iloc[:,0], y_1, color=\"cornflowerblue\",label=\"max_depth=2\", linewidth=2)\n",
    "# plt.plot(X_test.iloc[:,0], y_2, color=\"yellowgreen\", label=\"max_depth=5\", linewidth=2)\n",
    "# plt.xlabel(\"data\")\n",
    "# plt.ylabel(\"target\")\n",
    "# plt.title(\"Decision Tree Regression\")\n",
    "# plt.legend()\n",
    "# plt.show()"
   ]
  },
  {
   "cell_type": "code",
   "execution_count": null,
   "metadata": {},
   "outputs": [],
   "source": [
    "# from sklearn.ensemble import AdaBoostRegressor\n",
    "# regr_boost = AdaBoostRegressor(regr_2,n_estimators=300, random_state=1)"
   ]
  },
  {
   "cell_type": "code",
   "execution_count": null,
   "metadata": {},
   "outputs": [],
   "source": [
    "# regr_boost.fit(X_train, y_train)\n",
    "# y_boost = regr_boost.predict(X_test)"
   ]
  },
  {
   "cell_type": "code",
   "execution_count": null,
   "metadata": {},
   "outputs": [],
   "source": [
    "# plt.figure()\n",
    "# plt.scatter(X_train.iloc[:,0], y_train, s=20, edgecolor=\"black\", c=\"darkorange\", label=\"data\")\n",
    "# #plt.plot(X_test.iloc[:,0], y_2, color=\"cornflowerblue\", label=\"max_depth=5\", linewidth=2)\n",
    "# plt.plot(X_test.iloc[:,0], y_boost, color=\"yellowgreen\", label=\"max_depth=5\", linewidth=2)\n",
    "# plt.xlabel(\"data\")\n",
    "# plt.ylabel(\"target\")\n",
    "# plt.title(\"Boosted Decision Tree Regression\")\n",
    "# plt.legend()\n",
    "# plt.show()"
   ]
  },
  {
   "cell_type": "code",
   "execution_count": null,
   "metadata": {},
   "outputs": [],
   "source": []
  }
 ],
 "metadata": {
  "kernelspec": {
   "display_name": "Python 3",
   "language": "python",
   "name": "python3"
  },
  "language_info": {
   "codemirror_mode": {
    "name": "ipython",
    "version": 3
   },
   "file_extension": ".py",
   "mimetype": "text/x-python",
   "name": "python",
   "nbconvert_exporter": "python",
   "pygments_lexer": "ipython3",
   "version": "3.6.5"
  }
 },
 "nbformat": 4,
 "nbformat_minor": 2
}
